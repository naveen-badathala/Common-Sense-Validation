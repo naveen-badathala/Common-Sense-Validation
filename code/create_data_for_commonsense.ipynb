{
  "nbformat": 4,
  "nbformat_minor": 0,
  "metadata": {
    "colab": {
      "name": "create_data_for_commonsense.ipynb",
      "provenance": []
    },
    "kernelspec": {
      "name": "python3",
      "display_name": "Python 3"
    },
    "language_info": {
      "name": "python"
    }
  },
  "cells": [
    {
      "cell_type": "code",
      "metadata": {
        "id": "7Qhl1rvuQ2JB"
      },
      "source": [
        "\"\"\"\n",
        "This file is to create transformed dataset from the original dataset.\n",
        "\"\"\""
      ],
      "execution_count": null,
      "outputs": []
    },
    {
      "cell_type": "code",
      "metadata": {
        "colab": {
          "base_uri": "https://localhost:8080/"
        },
        "id": "-x6U45MiGjHT",
        "outputId": "c932bc20-d6ad-41cb-86e3-aca204eb8159"
      },
      "source": [
        "\"\"\"\n",
        "Uncomment the code below if you want to load the files from drive\n",
        "\"\"\"\n",
        "# from google.colab import drive\n",
        "# drive.mount('/content/drive')"
      ],
      "execution_count": null,
      "outputs": [
        {
          "output_type": "stream",
          "name": "stdout",
          "text": [
            "Mounted at /content/drive\n"
          ]
        }
      ]
    },
    {
      "cell_type": "code",
      "metadata": {
        "id": "NEhENIAcGjjx"
      },
      "source": [
        "#importing the libraries\n",
        "import pandas as pd\n",
        "import numpy as np"
      ],
      "execution_count": null,
      "outputs": []
    },
    {
      "cell_type": "code",
      "metadata": {
        "id": "9KfglI03PmN9"
      },
      "source": [
        "\"\"\"\n",
        "Set the appropriate paths below using the dataset folder.\n",
        "\"\"\"\n",
        "train_data_path = '/content/drive/MyDrive/IIT_Bombay/CS 626/data/subtaskA_data_all.csv'\n",
        "train_label_path = '/content/drive/MyDrive/IIT_Bombay/CS 626/data/subtaskA_answers_all.csv'\n",
        "valid_data_path = '/content/drive/MyDrive/IIT_Bombay/CS 626/data/subtaskA_dev_data.csv'\n",
        "valid_label_path = '/content/drive/MyDrive/IIT_Bombay/CS 626/data/subtaskA_gold_answers.csv'\n",
        "test_data_path = '/content/drive/MyDrive/IIT_Bombay/CS 626/data/subtaskA_test_data.csv'\n",
        "test_label_path = '/content/drive/MyDrive/IIT_Bombay/CS 626/data/subtaskA_gold_answers_test.csv'\n",
        "trial_data_path = '/content/drive/MyDrive/IIT_Bombay/CS 626/data/taskA_trial_data.csv'\n",
        "trial_label_path = '/content/drive/MyDrive/IIT_Bombay/CS 626/data/taskA_trial_answer.csv'\n",
        "\n",
        "output_csv_path = \"/content/drive/MyDrive/IIT_Bombay/CS 626/commonsense_data.csv\""
      ],
      "execution_count": null,
      "outputs": []
    },
    {
      "cell_type": "code",
      "metadata": {
        "colab": {
          "base_uri": "https://localhost:8080/"
        },
        "id": "Kq0kyjPKGudE",
        "outputId": "02688110-d3af-4c9c-973f-caf204d4b8e2"
      },
      "source": [
        "# Load the dataset into a pandas dataframe.\n",
        "train_data = pd.read_csv(train_data_path, error_bad_lines=False)\n",
        "train_answers = pd.read_csv(train_label_path, error_bad_lines=False, header=None, names=['id', 'label'])\n",
        "\n",
        "train = train_data.set_index('id').join(train_answers.set_index('id'))\n",
        "train.reset_index(drop=True, inplace=True)\n",
        "\n",
        "for i in range(len(train)):\n",
        "    if train['sent0'][i][-1] != '.' or train['sent1'][i][-1] !='.' :\n",
        "      train['sent0'][i] = train['sent0'][i] +'.'\n",
        "      train['sent1'][i] = train['sent1'][i] +'.'"
      ],
      "execution_count": null,
      "outputs": [
        {
          "output_type": "stream",
          "name": "stderr",
          "text": [
            "/usr/local/lib/python3.7/dist-packages/ipykernel_launcher.py:10: SettingWithCopyWarning: \n",
            "A value is trying to be set on a copy of a slice from a DataFrame\n",
            "\n",
            "See the caveats in the documentation: https://pandas.pydata.org/pandas-docs/stable/user_guide/indexing.html#returning-a-view-versus-a-copy\n",
            "  # Remove the CWD from sys.path while we load stuff.\n",
            "/usr/local/lib/python3.7/dist-packages/ipykernel_launcher.py:11: SettingWithCopyWarning: \n",
            "A value is trying to be set on a copy of a slice from a DataFrame\n",
            "\n",
            "See the caveats in the documentation: https://pandas.pydata.org/pandas-docs/stable/user_guide/indexing.html#returning-a-view-versus-a-copy\n",
            "  # This is added back by InteractiveShellApp.init_path()\n"
          ]
        }
      ]
    },
    {
      "cell_type": "code",
      "metadata": {
        "colab": {
          "base_uri": "https://localhost:8080/"
        },
        "id": "6fgfxX5PHQQT",
        "outputId": "3418a280-f74c-4501-c124-0d2c95e29422"
      },
      "source": [
        "# Load the dataset into a pandas dataframe.\n",
        "validation_data = pd.read_csv(valid_data_path, error_bad_lines=False)\n",
        "validation_answers = pd.read_csv(valid_label_path, error_bad_lines=False, header=None, names=['id', 'label'])\n",
        "\n",
        "validation = validation_data.set_index('id').join(validation_answers.set_index('id'))\n",
        "validation.reset_index(drop=True, inplace=True)\n",
        "\n",
        "for i in range(len(validation)):\n",
        "    if validation['sent0'][i][-1] != '.' or validation['sent1'][i][-1] !='.' :\n",
        "      validation['sent0'][i] = validation['sent0'][i] +'.'\n",
        "      validation['sent1'][i] = validation['sent1'][i] +'.'"
      ],
      "execution_count": null,
      "outputs": [
        {
          "output_type": "stream",
          "name": "stderr",
          "text": [
            "/usr/local/lib/python3.7/dist-packages/ipykernel_launcher.py:10: SettingWithCopyWarning: \n",
            "A value is trying to be set on a copy of a slice from a DataFrame\n",
            "\n",
            "See the caveats in the documentation: https://pandas.pydata.org/pandas-docs/stable/user_guide/indexing.html#returning-a-view-versus-a-copy\n",
            "  # Remove the CWD from sys.path while we load stuff.\n",
            "/usr/local/lib/python3.7/dist-packages/ipykernel_launcher.py:11: SettingWithCopyWarning: \n",
            "A value is trying to be set on a copy of a slice from a DataFrame\n",
            "\n",
            "See the caveats in the documentation: https://pandas.pydata.org/pandas-docs/stable/user_guide/indexing.html#returning-a-view-versus-a-copy\n",
            "  # This is added back by InteractiveShellApp.init_path()\n"
          ]
        }
      ]
    },
    {
      "cell_type": "code",
      "metadata": {
        "colab": {
          "base_uri": "https://localhost:8080/"
        },
        "id": "SnOexJ5fHukC",
        "outputId": "c2960917-0bbe-4fe3-dc9f-652921264f25"
      },
      "source": [
        "# Load the dataset into a pandas dataframe.\n",
        "test_data = pd.read_csv(test_data_path, error_bad_lines=False)\n",
        "test_answers = pd.read_csv(test_label_path, error_bad_lines=False, header=None, names=['id', 'label'])\n",
        "\n",
        "test = test_data.set_index('id').join(test_answers.set_index('id'))\n",
        "test.reset_index(drop=True, inplace=True)\n",
        "\n",
        "for i in range(len(test)):\n",
        "    if test['sent0'][i][-1] != '.' or test['sent1'][i][-1] !='.' :\n",
        "      test['sent0'][i] = test['sent0'][i] +'.'\n",
        "      test['sent1'][i] = test['sent1'][i] +'.'"
      ],
      "execution_count": null,
      "outputs": [
        {
          "output_type": "stream",
          "name": "stderr",
          "text": [
            "/usr/local/lib/python3.7/dist-packages/ipykernel_launcher.py:10: SettingWithCopyWarning: \n",
            "A value is trying to be set on a copy of a slice from a DataFrame\n",
            "\n",
            "See the caveats in the documentation: https://pandas.pydata.org/pandas-docs/stable/user_guide/indexing.html#returning-a-view-versus-a-copy\n",
            "  # Remove the CWD from sys.path while we load stuff.\n",
            "/usr/local/lib/python3.7/dist-packages/ipykernel_launcher.py:11: SettingWithCopyWarning: \n",
            "A value is trying to be set on a copy of a slice from a DataFrame\n",
            "\n",
            "See the caveats in the documentation: https://pandas.pydata.org/pandas-docs/stable/user_guide/indexing.html#returning-a-view-versus-a-copy\n",
            "  # This is added back by InteractiveShellApp.init_path()\n"
          ]
        }
      ]
    },
    {
      "cell_type": "code",
      "metadata": {
        "colab": {
          "base_uri": "https://localhost:8080/"
        },
        "id": "ZS0uOpfAIXl_",
        "outputId": "7d0b7612-38e6-4367-e428-56649145c86a"
      },
      "source": [
        "# Load the dataset into a pandas dataframe.\n",
        "trial_data = pd.read_csv(trial_data_path, error_bad_lines=False)\n",
        "trial_answers = pd.read_csv(trial_label_path, error_bad_lines=False, header=None, names=['id', 'label'])\n",
        "\n",
        "trial = trial_data.set_index('id').join(trial_answers.set_index('id'))\n",
        "trial.reset_index(drop=True, inplace=True)\n",
        "\n",
        "for i in range(len(trial)):\n",
        "    if trial['sent0'][i][-1] != '.' or trial['sent1'][i][-1] !='.' :\n",
        "      trial['sent0'][i] = trial['sent0'][i] +'.'\n",
        "      trial['sent1'][i] = trial['sent1'][i] +'.'"
      ],
      "execution_count": null,
      "outputs": [
        {
          "output_type": "stream",
          "name": "stderr",
          "text": [
            "/usr/local/lib/python3.7/dist-packages/ipykernel_launcher.py:10: SettingWithCopyWarning: \n",
            "A value is trying to be set on a copy of a slice from a DataFrame\n",
            "\n",
            "See the caveats in the documentation: https://pandas.pydata.org/pandas-docs/stable/user_guide/indexing.html#returning-a-view-versus-a-copy\n",
            "  # Remove the CWD from sys.path while we load stuff.\n",
            "/usr/local/lib/python3.7/dist-packages/ipykernel_launcher.py:11: SettingWithCopyWarning: \n",
            "A value is trying to be set on a copy of a slice from a DataFrame\n",
            "\n",
            "See the caveats in the documentation: https://pandas.pydata.org/pandas-docs/stable/user_guide/indexing.html#returning-a-view-versus-a-copy\n",
            "  # This is added back by InteractiveShellApp.init_path()\n"
          ]
        }
      ]
    },
    {
      "cell_type": "code",
      "metadata": {
        "id": "D7ggBelGI4eV"
      },
      "source": [
        "f = [train,validation,test,trial]\n",
        "df = pd.concat(f,ignore_index=True)"
      ],
      "execution_count": null,
      "outputs": []
    },
    {
      "cell_type": "code",
      "metadata": {
        "id": "GG_QXVEuJNuf"
      },
      "source": [
        "df.to_csv(output_csv_path,index=False)"
      ],
      "execution_count": null,
      "outputs": []
    },
    {
      "cell_type": "code",
      "metadata": {
        "id": "QUq2gYfiJegm"
      },
      "source": [
        ""
      ],
      "execution_count": null,
      "outputs": []
    }
  ]
}